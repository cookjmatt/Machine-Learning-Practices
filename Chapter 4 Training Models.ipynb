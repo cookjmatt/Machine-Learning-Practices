{
 "cells": [
  {
   "cell_type": "code",
   "execution_count": 5,
   "metadata": {},
   "outputs": [
    {
     "data": {
      "text/plain": [
       "<matplotlib.collections.PathCollection at 0x7f9caa301710>"
      ]
     },
     "execution_count": 5,
     "metadata": {},
     "output_type": "execute_result"
    },
    {
     "data": {
      "image/png": "[encoded data removed]",
      "text/plain": [
       "<matplotlib.figure.Figure at 0x7f9caa3a58d0>"
      ]
     },
     "metadata": {},
     "output_type": "display_data"
    }
   ],
   "source": [
    "# Testing out the normal equation\n",
    "\n",
    "\n",
    "import matplotlib\n",
    "import matplotlib.pyplot as plt\n",
    "%matplotlib inline\n",
    "import numpy as np\n",
    "\n",
    "X = 2 * np.random.rand(100,1)\n",
    "y = 4 + 3 * X + np.random.randn(100,1)\n",
    "\n",
    "plt.scatter(X,y)"
   ]
  },
  {
   "cell_type": "code",
   "execution_count": 7,
   "metadata": {},
   "outputs": [
    {
     "name": "stdout",
     "output_type": "stream",
     "text": [
      "[[  1.00000000e+00   1.62805368e+00]\n",
      " [  1.00000000e+00   1.33374478e-01]\n",
      " [  1.00000000e+00   2.87275887e-01]\n",
      " [  1.00000000e+00   1.47068620e+00]\n",
      " [  1.00000000e+00   6.88407493e-01]\n",
      " [  1.00000000e+00   1.48315062e+00]\n",
      " [  1.00000000e+00   1.98573935e+00]\n",
      " [  1.00000000e+00   1.25732823e+00]\n",
      " [  1.00000000e+00   1.41713216e+00]\n",
      " [  1.00000000e+00   1.28128036e+00]\n",
      " [  1.00000000e+00   1.05771192e+00]\n",
      " [  1.00000000e+00   3.63758404e-01]\n",
      " [  1.00000000e+00   6.40597372e-01]\n",
      " [  1.00000000e+00   1.83889451e+00]\n",
      " [  1.00000000e+00   4.98794409e-01]\n",
      " [  1.00000000e+00   1.33105936e+00]\n",
      " [  1.00000000e+00   1.39264425e+00]\n",
      " [  1.00000000e+00   2.74584500e-01]\n",
      " [  1.00000000e+00   4.11066406e-02]\n",
      " [  1.00000000e+00   7.82617279e-01]\n",
      " [  1.00000000e+00   1.43010015e+00]\n",
      " [  1.00000000e+00   1.43890083e+00]\n",
      " [  1.00000000e+00   1.52902769e+00]\n",
      " [  1.00000000e+00   1.63991703e+00]\n",
      " [  1.00000000e+00   1.62872405e+00]\n",
      " [  1.00000000e+00   2.67411825e-01]\n",
      " [  1.00000000e+00   3.20810526e-01]\n",
      " [  1.00000000e+00   4.47877925e-01]\n",
      " [  1.00000000e+00   1.04183415e+00]\n",
      " [  1.00000000e+00   4.40935471e-01]\n",
      " [  1.00000000e+00   1.62832398e+00]\n",
      " [  1.00000000e+00   4.13455663e-01]\n",
      " [  1.00000000e+00   1.13754760e+00]\n",
      " [  1.00000000e+00   1.84187314e+00]\n",
      " [  1.00000000e+00   6.98178143e-01]\n",
      " [  1.00000000e+00   1.17185219e+00]\n",
      " [  1.00000000e+00   1.54258647e+00]\n",
      " [  1.00000000e+00   1.01055778e+00]\n",
      " [  1.00000000e+00   1.81846542e+00]\n",
      " [  1.00000000e+00   1.22425997e-01]\n",
      " [  1.00000000e+00   1.77888252e-01]\n",
      " [  1.00000000e+00   1.72446304e-01]\n",
      " [  1.00000000e+00   2.10473356e-01]\n",
      " [  1.00000000e+00   1.04248831e+00]\n",
      " [  1.00000000e+00   1.10851437e+00]\n",
      " [  1.00000000e+00   1.35026802e+00]\n",
      " [  1.00000000e+00   1.61437899e+00]\n",
      " [  1.00000000e+00   6.19831872e-01]\n",
      " [  1.00000000e+00   1.70083131e+00]\n",
      " [  1.00000000e+00   1.87243329e+00]\n",
      " [  1.00000000e+00   5.28240933e-01]\n",
      " [  1.00000000e+00   7.91757872e-01]\n",
      " [  1.00000000e+00   1.15840830e+00]\n",
      " [  1.00000000e+00   1.09052481e+00]\n",
      " [  1.00000000e+00   6.17891225e-01]\n",
      " [  1.00000000e+00   4.40759617e-01]\n",
      " [  1.00000000e+00   1.57034436e+00]\n",
      " [  1.00000000e+00   7.22328801e-01]\n",
      " [  1.00000000e+00   8.45975415e-01]\n",
      " [  1.00000000e+00   1.45200650e-03]\n",
      " [  1.00000000e+00   1.15315147e+00]\n",
      " [  1.00000000e+00   1.75215445e+00]\n",
      " [  1.00000000e+00   1.24859026e-01]\n",
      " [  1.00000000e+00   1.21099399e+00]\n",
      " [  1.00000000e+00   1.16386250e+00]\n",
      " [  1.00000000e+00   1.42771805e+00]\n",
      " [  1.00000000e+00   6.55082118e-01]\n",
      " [  1.00000000e+00   8.35798476e-01]\n",
      " [  1.00000000e+00   1.10706236e+00]\n",
      " [  1.00000000e+00   8.39281737e-01]\n",
      " [  1.00000000e+00   1.76159992e+00]\n",
      " [  1.00000000e+00   9.26910969e-01]\n",
      " [  1.00000000e+00   5.02381476e-01]\n",
      " [  1.00000000e+00   4.88704260e-02]\n",
      " [  1.00000000e+00   1.10009862e-01]\n",
      " [  1.00000000e+00   9.55519351e-01]\n",
      " [  1.00000000e+00   1.07924787e+00]\n",
      " [  1.00000000e+00   1.44151306e+00]\n",
      " [  1.00000000e+00   1.56956471e+00]\n",
      " [  1.00000000e+00   3.34413519e-01]\n",
      " [  1.00000000e+00   1.62572810e-01]\n",
      " [  1.00000000e+00   1.47312104e-01]\n",
      " [  1.00000000e+00   3.66093604e-02]\n",
      " [  1.00000000e+00   3.87766231e-01]\n",
      " [  1.00000000e+00   1.73493981e+00]\n",
      " [  1.00000000e+00   2.74668174e-02]\n",
      " [  1.00000000e+00   5.90463564e-01]\n",
      " [  1.00000000e+00   9.57466347e-01]\n",
      " [  1.00000000e+00   9.42864529e-01]\n",
      " [  1.00000000e+00   1.90129284e+00]\n",
      " [  1.00000000e+00   1.17182177e+00]\n",
      " [  1.00000000e+00   3.49581575e-01]\n",
      " [  1.00000000e+00   1.76521241e+00]\n",
      " [  1.00000000e+00   9.38280043e-02]\n",
      " [  1.00000000e+00   3.18743522e-04]\n",
      " [  1.00000000e+00   1.09651212e+00]\n",
      " [  1.00000000e+00   1.15355238e+00]\n",
      " [  1.00000000e+00   2.23248819e-01]\n",
      " [  1.00000000e+00   1.04268784e+00]\n",
      " [  1.00000000e+00   1.82174100e+00]]\n"
     ]
    }
   ],
   "source": [
    "# Compute the value of sigma that minimizies the cost function\n",
    "\n",
    "X_b = np.c_[np.ones((100,1)), X]  # add x0 = 1 to each instance\n",
    "print(X_b)"
   ]
  },
  {
   "cell_type": "code",
   "execution_count": 8,
   "metadata": {},
   "outputs": [
    {
     "name": "stdout",
     "output_type": "stream",
     "text": [
      "[[ 4.17130616]\n",
      " [ 2.86087113]]\n"
     ]
    }
   ],
   "source": [
    "theta_best = np.linalg.inv(X_b.T.dot(X_b)).dot(X_b.T).dot(y)\n",
    "print(theta_best)"
   ]
  },
  {
   "cell_type": "code",
   "execution_count": null,
   "metadata": {
    "collapsed": true
   },
   "outputs": [],
   "source": []
  }
 ],
 "metadata": {
  "kernelspec": {
   "display_name": "Python 3",
   "language": "python",
   "name": "python3"
  },
  "language_info": {
   "codemirror_mode": {
    "name": "ipython",
    "version": 3
   },
   "file_extension": ".py",
   "mimetype": "text/x-python",
   "name": "python",
   "nbconvert_exporter": "python",
   "pygments_lexer": "ipython3",
   "version": "3.5.3"
  }
 },
 "nbformat": 4,
 "nbformat_minor": 2
}
